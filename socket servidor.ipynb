{
 "cells": [
  {
   "cell_type": "code",
   "execution_count": null,
   "id": "610251a9",
   "metadata": {},
   "outputs": [],
   "source": [
    "import socket\n",
    "#SERVIDOR\n",
    "host = '127.0.0.1'\n",
    "porta = 50000\n",
    "caminho = (host, porta)\n",
    "\n",
    "s = socket.socket(socket.AF_INET, socket.SOCK_STREAM)\n",
    "s.bind(caminho)\n",
    "s.listen()\n",
    "\n",
    "con, caminho_cliente = s.accept()\n",
    "\n",
    "print(caminho_cliente)\n",
    "\n",
    "while True:\n",
    "    dados = con.recv(1024)\n",
    "    if not dados:\n",
    "        print('fechando conexão')\n",
    "        con.close()\n",
    "        break\n",
    "    print('Mensagem recebida:  ', dados.decode())\n",
    "    con.sendall(dados)"
   ]
  }
 ],
 "metadata": {
  "kernelspec": {
   "display_name": "Python (bot)",
   "language": "python",
   "name": "bot"
  },
  "language_info": {
   "codemirror_mode": {
    "name": "ipython",
    "version": 3
   },
   "file_extension": ".py",
   "mimetype": "text/x-python",
   "name": "python",
   "nbconvert_exporter": "python",
   "pygments_lexer": "ipython3",
   "version": "3.9.7"
  }
 },
 "nbformat": 4,
 "nbformat_minor": 5
}
