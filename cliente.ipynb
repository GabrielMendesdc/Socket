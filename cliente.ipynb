{
 "cells": [
  {
   "cell_type": "code",
   "execution_count": null,
   "id": "691650b6",
   "metadata": {},
   "outputs": [],
   "source": [
    "import socket\n",
    "#CLIENTE\n",
    "host = '127.0.0.1'\n",
    "porta = 50000\n",
    "caminho = (host, porta)\n",
    "\n",
    "s = socket.socket(socket.AF_INET, socket.SOCK_STREAM)\n",
    "s.connect(caminho)\n",
    "s.sendall(str.encode(\"DALHE DOG MAU\"))\n",
    "\n",
    "dados = s.recv(1024)\n",
    "print(dados.decode())\n",
    "\n",
    "s.close()"
   ]
  }
 ],
 "metadata": {
  "kernelspec": {
   "display_name": "Python (bot)",
   "language": "python",
   "name": "bot"
  },
  "language_info": {
   "codemirror_mode": {
    "name": "ipython",
    "version": 3
   },
   "file_extension": ".py",
   "mimetype": "text/x-python",
   "name": "python",
   "nbconvert_exporter": "python",
   "pygments_lexer": "ipython3",
   "version": "3.9.7"
  }
 },
 "nbformat": 4,
 "nbformat_minor": 5
}
